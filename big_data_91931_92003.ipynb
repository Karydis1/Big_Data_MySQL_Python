{
 "cells": [
  {
   "cell_type": "markdown",
   "id": "e3245e2d",
   "metadata": {},
   "source": [
    "<img src=\"dimokriteio2.png\" style=\"width:200px; float: left; margin: 40px 40px 40px 40px;\"></img>\n",
    "<img src=\"deyak.png\" style=\"width:100px; float: up; margin: 40px 40px 40px 40px;\"></img>\n",
    "\n",
    "\n",
    "<img src=\"https://user-images.githubusercontent.com/7065401/55025843-7d99a280-4fe0-11e9-938a-4879d95c4130.png\"\n",
    "    style=\"width:80px; float: right; margin: 40px 40px 40px 40px;\"></img>\n",
    "\n",
    "# Δημόσια Επιχείρηση Ύδρευσης\n",
    "**Εργασία Εξαμήνου στο μάθημα Αναλυτική Μεγάλων Δεδομένων** \n",
    "\n",
    "**Στοιχεία Φοιτητών:** Αναστάσιος Καρύδης 91931, Ιωάννης Χαριζόπουλος 92003\n",
    "\n",
    "![purple-divider](https://user-images.githubusercontent.com/7065401/52071927-c1cd7100-2562-11e9-908a-dde91ba14e59.png)\n"
   ]
  },
  {
   "cell_type": "markdown",
   "id": "e92e868b",
   "metadata": {},
   "source": [
    "**Επιχειρησιακοί Κανόνες Βάσης Δεδομένων:**\n",
    "* Για τις ανάγκες τις εργασίας αναγράφονται οι επιχειρησιακοί κανόνες της βάσης.\n",
    " \n",
    " Κατά την σχεδίαση βάσης δεδομένων για την ΔΕΥΑK, με στόχο την διαχείριση των πελατών και τις πληροφορίες που θα πρέπει να υπάρχουν για κάθε πελάτη, καταγράφηκαν οι παρακάτω πληροφορίες: \n",
    " \n",
    "1. Για κάθε πελάτη κρατάμε τον αριθμό φορολογικού μητρώου του (ΑΦΜ),το ονοματεπώνυμο και το είδος του πελάτη (CustType) εαν πρόκειται για φυσικό πρόσωπο η νομική οντότητα. \n",
    "\n",
    "2. Σε κάθε πελάτη μπορεί να αντιστοιχούν περισσότερες από μία διευθύνσεις, ενώ μια διεύθυνση μπορεί να αντιστοιχεί και σε περισσότερους από ένα πελάτες, εφόσον μένουν σε πολυκατοικία. Για κάθε διεύθυνση χρειάζεται να κρατάμε την Οδό, τον αριθμό και τον Ταχυδρομικό Κώδικα.\n",
    "\n",
    "3. Για κάθε πελάτη έχει εγκατασταθεί μετρητής με μοναδικό αριθμό υδρομέτρου, ενώ ταυτόχρονα θα πρέπει να προσδιορίζεται και το είδος του υδρομέτρου.\n",
    "\n",
    "4. Η ένδειξη του μετρητή θα διαβάζεται άπο τον εργαζόμενο της υπηρεσίας. Ο κάθε υπάλληλος έχει έναν μοναδικό κωδικό και επιπλέον κρατάμε την θέση εργασίας του και το ονοματεπώνυμό του.\n",
    "\n",
    "5. Για τον κάθε λογαριασμό χρησιμοποιούνται τα δεδομένα από την μέτρηση του αντίστοιχου μετρητή υδρομέτρου. Έπειτα εκδίδεται ο λογαριασμός για τον πελάτη με μοναδικό αριθμό λογαριασμού και στοιχεία όπως ημερομηνία έκδοσης του λογαριασμού και ημερομηνία λήξης του λογαριασμού.\n",
    "\n",
    "6. Στην μέτρηση είναι χρήσιμο να κρατάμε ακόμα και την πρώτη μέτρηση, την τελευταία μέτρηση καθώς και τις ημερομηνίες τους. (Ημερομηνία έναρξης Μέτρησης, Ημερομηνία Ληξης Μέτρησης)\n",
    "\n",
    "\n",
    "For the needs of DEUAK (Public Water and Sewage Company), operational rules for the database were outlined with the goal of managing customer information and the necessary data for each customer. The following information has been recorded:\n",
    "\n",
    "For each customer, we keep their Tax Identification Number (TIN), full name, and the type of customer (CustType), whether it is an individual or a legal entity.\n",
    "\n",
    "Multiple addresses can be associated with each customer, and a single address can correspond to multiple customers, especially for multi-unit buildings. For each address, we need to store the Street, House Number, and Postal Code.\n",
    "\n",
    "Each customer has a unique water meter with a unique meter number, and the type of meter must also be specified.\n",
    "\n",
    "The meter reading is performed by a service employee. Each employee has a unique code, and we also store their job position and full name.\n",
    "\n",
    "Customer bills are generated based on the data collected from the corresponding water meter reading. Each bill has a unique account number and includes details such as the bill issuance date and the bill due date.\n",
    "\n",
    "It is important to store information related to meter readings, including the first reading, the last reading, and their respective dates (Start Date of Reading, End Date of Reading).\n"
   ]
  },
  {
   "cell_type": "markdown",
   "id": "710ce11c",
   "metadata": {},
   "source": [
    "   ## ΜΟΝΤΕΛΟ ΟΝΤΟΤΗΤΩΝ ΣΥΣΧΕΤΙΣΕΩΝ  \n",
    "   ### ER MODEL\n",
    "\n",
    "<img src=\"MOS_DEYA.png\" style=\"width:1000px; float: mid; margin: 50px 50px 50px 50px;\"></img>"
   ]
  },
  {
   "cell_type": "markdown",
   "id": "d77ce95e",
   "metadata": {},
   "source": [
    "## Μετατροπή του ΜΟΣ σε σχεσιακό μοντέλο\n",
    "### Converting the MOS into a relational model\n",
    " Με βάση τους κανόνες 1-6 \n",
    " Για ευκολία θα χρησιμοποιήσουμε αγγλικούς όρους.\n",
    "\n",
    "* Customer(AFM, CustName, CustType)\n",
    "    Primary Keys: AFM\n",
    "    Foreign Key: BillNo , MeterNo\n",
    "\n",
    "* Meter(MeterNo,  MtrModel, BillStartDate, BillLastDate, PrevMeterNoVAL, NowMeterNoVAL, Consumption)\n",
    "    Primary Key: MeterNo\n",
    "    Foreign Key: AFM, BillNo, EmpNo\n",
    "\n",
    "* Payment(IDpayment,PaymentType , PayDate)\n",
    "    Primary Key: IDpayment\n",
    "    Foreign Key: BillNo\n",
    "\n",
    "* Bill(BillNo, BillPublishDate, BillExpireDate)\n",
    "    Primary Key: BillNo\n",
    "    Foreign Key: AFM, IDpayment, MeterNo\n",
    "\n",
    "* Employee(EmpNo, EmpName, EmpTitle)\n",
    "    Primary Key: EmpNo\n",
    "    Foreign Key: MeterNo\n",
    "\n",
    "* Address(IDAddress, TK, Street , Number)\n",
    "    Primary Key: ID Address\n",
    "    Foreign Key: \n",
    "    \n",
    "* Antistoixei(AFM, IDAddress)\n",
    "    Primary Key: AFM, IDAddress\n",
    "    Foreign Key: AFM, IDAddress\n"
   ]
  },
  {
   "cell_type": "code",
   "execution_count": 1,
   "id": "f314cfef",
   "metadata": {},
   "outputs": [
    {
     "data": {
      "text/html": [
       "        <script type=\"text/javascript\">\n",
       "        window.PlotlyConfig = {MathJaxConfig: 'local'};\n",
       "        if (window.MathJax) {MathJax.Hub.Config({SVG: {font: \"STIX-Web\"}});}\n",
       "        if (typeof require !== 'undefined') {\n",
       "        require.undef(\"plotly\");\n",
       "        requirejs.config({\n",
       "            paths: {\n",
       "                'plotly': ['https://cdn.plot.ly/plotly-2.6.3.min']\n",
       "            }\n",
       "        });\n",
       "        require(['plotly'], function(Plotly) {\n",
       "            window._Plotly = Plotly;\n",
       "        });\n",
       "        }\n",
       "        </script>\n",
       "        "
      ]
     },
     "metadata": {},
     "output_type": "display_data"
    }
   ],
   "source": [
    "import plotly.offline as py\n",
    "py.init_notebook_mode(connected=True)\n",
    "import plotly.graph_objs as go\n",
    "import pandas as pd\n",
    "import numpy as np"
   ]
  },
  {
   "cell_type": "code",
   "execution_count": 2,
   "id": "fd0707d5",
   "metadata": {},
   "outputs": [
    {
     "data": {
      "text/plain": [
       "'Connected: @Deya.db'"
      ]
     },
     "execution_count": 2,
     "metadata": {},
     "output_type": "execute_result"
    }
   ],
   "source": [
    "%load_ext sql\n",
    "\n",
    "%sql sqlite:///Deya.db"
   ]
  },
  {
   "cell_type": "code",
   "execution_count": 3,
   "id": "95d2df4e",
   "metadata": {},
   "outputs": [
    {
     "name": "stdout",
     "output_type": "stream",
     "text": [
      " * sqlite:///Deya.db\n",
      "Done.\n",
      "Done.\n",
      "Done.\n",
      "Done.\n",
      "Done.\n",
      "Done.\n",
      "Done.\n"
     ]
    },
    {
     "data": {
      "text/plain": [
       "[]"
      ]
     },
     "execution_count": 3,
     "metadata": {},
     "output_type": "execute_result"
    }
   ],
   "source": [
    "\n",
    "%%sql\n",
    "CREATE TABLE Customer( AFM NUMBER(9) , CustName VARCHAR(30), CustType CHAR(6), BillNo NUMBER(12), MeterNo INTEGER, PRIMARY KEY (AFM), \n",
    "                      FOREIGN KEY (BillNo) REFERENCES Bill, FOREIGN KEY(MeterNo) REFERENCES Meter);\n",
    "CREATE TABLE Address( IDAddress NUMBER(7) ,TK NUMBER(5) , Street VARCHAR(25) , Number INTEGER,  PRIMARY KEY (IDAddress));\n",
    "\n",
    "CREATE TABLE Meter( MeterNo INTEGER, MtrModel CHAR(7), BillStartDate DATE, BillLastDate DATE, PrevMeterNoVAL INTEGER , NowMeterNoVAL INTEGER, Consumption INTEGER, AFM NUMBER(9), BillNo NUMBER(12), EmpNo INTEGER, PRIMARY KEY (MeterNo), \n",
    "                   FOREIGN KEY (AFM) REFERENCES Customer, FOREIGN KEY (BillNo) REFERENCES Bill , FOREIGN KEY (EmpNo) REFERENCES Employee);\n",
    "\n",
    "CREATE TABLE Bill( BillNo NUMBER(12), BillPublishDate DATE, BillExpireDate DATE, AFM NUMBER(9), IDpayment INTEGER, MeterNo INTEGER ,  \n",
    "                      PRIMARY KEY (BillNo), FOREIGN KEY (AFM) REFERENCES Customer, FOREIGN KEY (IDpayment) REFERENCES Payment, \n",
    "                     FOREIGN KEY (MeterNo) REFERENCES Meter);\n",
    "\n",
    "CREATE TABLE Payment( IDpayment INTEGER, PaymentType VARCHAR(10) , PayDate DATE , BillNo NUMBER(12) , PRIMARY KEY (IDpayment), FOREIGN KEY (BillNo) REFERENCES Bill );\n",
    "\n",
    "CREATE TABLE Employee( EmpNo INTEGER, EmpName VARCHAR(30), EmpTitle VARCHAR(20), MeterNo INTEGER, PRIMARY KEY (EmpNo), FOREIGN KEY (MeterNo) REFERENCES Meter);\n",
    "\n",
    "CREATE TABLE Antistoixei (AFM NUMBER(9), IDAddress NUMBER(7), PRIMARY KEY (AFM, IDAddress), FOREIGN KEY (AFM) REFERENCES Customer, FOREIGN KEY (IDAddress) REFERENCES Address )\n"
   ]
  },
  {
   "cell_type": "markdown",
   "id": "13e0880d",
   "metadata": {},
   "source": [
    "## Αφού δημιουργήσαμε την βάση με τους πίνακες, τώρα θα γεμίσουμε την βάση με εγγραφές\n",
    "### We register users in the database\n",
    "1. Αρχικά εμφανίζω τους πίνακες να δώ ότι όλα είναι σωστά"
   ]
  },
  {
   "cell_type": "code",
   "execution_count": 4,
   "id": "8e09af13",
   "metadata": {},
   "outputs": [
    {
     "name": "stdout",
     "output_type": "stream",
     "text": [
      " * sqlite:///Deya.db\n",
      "Done.\n"
     ]
    },
    {
     "data": {
      "text/html": [
       "<table>\n",
       "    <thead>\n",
       "        <tr>\n",
       "            <th>type</th>\n",
       "            <th>name</th>\n",
       "            <th>tbl_name</th>\n",
       "            <th>rootpage</th>\n",
       "            <th>sql</th>\n",
       "        </tr>\n",
       "    </thead>\n",
       "    <tbody>\n",
       "        <tr>\n",
       "            <td>table</td>\n",
       "            <td>Customer</td>\n",
       "            <td>Customer</td>\n",
       "            <td>2</td>\n",
       "            <td>CREATE TABLE Customer( AFM NUMBER(9) , CustName VARCHAR(30), CustType CHAR(6), BillNo NUMBER(12), MeterNo INTEGER, PRIMARY KEY (AFM), <br>                      FOREIGN KEY (BillNo) REFERENCES Bill, FOREIGN KEY(MeterNo) REFERENCES Meter)</td>\n",
       "        </tr>\n",
       "        <tr>\n",
       "            <td>index</td>\n",
       "            <td>sqlite_autoindex_Customer_1</td>\n",
       "            <td>Customer</td>\n",
       "            <td>3</td>\n",
       "            <td>None</td>\n",
       "        </tr>\n",
       "        <tr>\n",
       "            <td>table</td>\n",
       "            <td>Address</td>\n",
       "            <td>Address</td>\n",
       "            <td>4</td>\n",
       "            <td>CREATE TABLE Address( IDAddress NUMBER(7) ,TK NUMBER(5) , Street VARCHAR(25) , Number INTEGER,  PRIMARY KEY (IDAddress))</td>\n",
       "        </tr>\n",
       "        <tr>\n",
       "            <td>index</td>\n",
       "            <td>sqlite_autoindex_Address_1</td>\n",
       "            <td>Address</td>\n",
       "            <td>5</td>\n",
       "            <td>None</td>\n",
       "        </tr>\n",
       "        <tr>\n",
       "            <td>table</td>\n",
       "            <td>Meter</td>\n",
       "            <td>Meter</td>\n",
       "            <td>6</td>\n",
       "            <td>CREATE TABLE Meter( MeterNo INTEGER, MtrModel CHAR(7), BillStartDate DATE, BillLastDate DATE, PrevMeterNoVAL INTEGER , NowMeterNoVAL INTEGER, Consumption INTEGER, AFM NUMBER(9), BillNo NUMBER(12), EmpNo INTEGER, PRIMARY KEY (MeterNo), <br>                   FOREIGN KEY (AFM) REFERENCES Customer, FOREIGN KEY (BillNo) REFERENCES Bill , FOREIGN KEY (EmpNo) REFERENCES Employee)</td>\n",
       "        </tr>\n",
       "        <tr>\n",
       "            <td>table</td>\n",
       "            <td>Bill</td>\n",
       "            <td>Bill</td>\n",
       "            <td>7</td>\n",
       "            <td>CREATE TABLE Bill( BillNo NUMBER(12), BillPublishDate DATE, BillExpireDate DATE, AFM NUMBER(9), IDpayment INTEGER, MeterNo INTEGER ,  <br>                      PRIMARY KEY (BillNo), FOREIGN KEY (AFM) REFERENCES Customer, FOREIGN KEY (IDpayment) REFERENCES Payment, <br>                     FOREIGN KEY (MeterNo) REFERENCES Meter)</td>\n",
       "        </tr>\n",
       "        <tr>\n",
       "            <td>index</td>\n",
       "            <td>sqlite_autoindex_Bill_1</td>\n",
       "            <td>Bill</td>\n",
       "            <td>8</td>\n",
       "            <td>None</td>\n",
       "        </tr>\n",
       "        <tr>\n",
       "            <td>table</td>\n",
       "            <td>Payment</td>\n",
       "            <td>Payment</td>\n",
       "            <td>9</td>\n",
       "            <td>CREATE TABLE Payment( IDpayment INTEGER, PaymentType VARCHAR(10) , PayDate DATE , BillNo NUMBER(12) , PRIMARY KEY (IDpayment), FOREIGN KEY (BillNo) REFERENCES Bill )</td>\n",
       "        </tr>\n",
       "        <tr>\n",
       "            <td>table</td>\n",
       "            <td>Employee</td>\n",
       "            <td>Employee</td>\n",
       "            <td>10</td>\n",
       "            <td>CREATE TABLE Employee( EmpNo INTEGER, EmpName VARCHAR(30), EmpTitle VARCHAR(20), MeterNo INTEGER, PRIMARY KEY (EmpNo), FOREIGN KEY (MeterNo) REFERENCES Meter)</td>\n",
       "        </tr>\n",
       "        <tr>\n",
       "            <td>table</td>\n",
       "            <td>Antistoixei</td>\n",
       "            <td>Antistoixei</td>\n",
       "            <td>11</td>\n",
       "            <td>CREATE TABLE Antistoixei (AFM NUMBER(9), IDAddress NUMBER(7), PRIMARY KEY (AFM, IDAddress), FOREIGN KEY (AFM) REFERENCES Customer, FOREIGN KEY (IDAddress) REFERENCES Address )</td>\n",
       "        </tr>\n",
       "        <tr>\n",
       "            <td>index</td>\n",
       "            <td>sqlite_autoindex_Antistoixei_1</td>\n",
       "            <td>Antistoixei</td>\n",
       "            <td>12</td>\n",
       "            <td>None</td>\n",
       "        </tr>\n",
       "    </tbody>\n",
       "</table>"
      ],
      "text/plain": [
       "[('table', 'Customer', 'Customer', 2, 'CREATE TABLE Customer( AFM NUMBER(9) , CustName VARCHAR(30), CustType CHAR(6), BillNo NUMBER(12), MeterNo INTEGER, PRIMARY KEY (AFM), \\n                      FOREIGN KEY (BillNo) REFERENCES Bill, FOREIGN KEY(MeterNo) REFERENCES Meter)'),\n",
       " ('index', 'sqlite_autoindex_Customer_1', 'Customer', 3, None),\n",
       " ('table', 'Address', 'Address', 4, 'CREATE TABLE Address( IDAddress NUMBER(7) ,TK NUMBER(5) , Street VARCHAR(25) , Number INTEGER,  PRIMARY KEY (IDAddress))'),\n",
       " ('index', 'sqlite_autoindex_Address_1', 'Address', 5, None),\n",
       " ('table', 'Meter', 'Meter', 6, 'CREATE TABLE Meter( MeterNo INTEGER, MtrModel CHAR(7), BillStartDate DATE, BillLastDate DATE, PrevMeterNoVAL INTEGER , NowMeterNoVAL INTEGER, Consump ... (76 characters truncated) ... MeterNo), \\n                   FOREIGN KEY (AFM) REFERENCES Customer, FOREIGN KEY (BillNo) REFERENCES Bill , FOREIGN KEY (EmpNo) REFERENCES Employee)'),\n",
       " ('table', 'Bill', 'Bill', 7, 'CREATE TABLE Bill( BillNo NUMBER(12), BillPublishDate DATE, BillExpireDate DATE, AFM NUMBER(9), IDpayment INTEGER, MeterNo INTEGER ,  \\n              ... (27 characters truncated) ... o), FOREIGN KEY (AFM) REFERENCES Customer, FOREIGN KEY (IDpayment) REFERENCES Payment, \\n                     FOREIGN KEY (MeterNo) REFERENCES Meter)'),\n",
       " ('index', 'sqlite_autoindex_Bill_1', 'Bill', 8, None),\n",
       " ('table', 'Payment', 'Payment', 9, 'CREATE TABLE Payment( IDpayment INTEGER, PaymentType VARCHAR(10) , PayDate DATE , BillNo NUMBER(12) , PRIMARY KEY (IDpayment), FOREIGN KEY (BillNo) REFERENCES Bill )'),\n",
       " ('table', 'Employee', 'Employee', 10, 'CREATE TABLE Employee( EmpNo INTEGER, EmpName VARCHAR(30), EmpTitle VARCHAR(20), MeterNo INTEGER, PRIMARY KEY (EmpNo), FOREIGN KEY (MeterNo) REFERENCES Meter)'),\n",
       " ('table', 'Antistoixei', 'Antistoixei', 11, 'CREATE TABLE Antistoixei (AFM NUMBER(9), IDAddress NUMBER(7), PRIMARY KEY (AFM, IDAddress), FOREIGN KEY (AFM) REFERENCES Customer, FOREIGN KEY (IDAddress) REFERENCES Address )'),\n",
       " ('index', 'sqlite_autoindex_Antistoixei_1', 'Antistoixei', 12, None)]"
      ]
     },
     "execution_count": 4,
     "metadata": {},
     "output_type": "execute_result"
    }
   ],
   "source": [
    "%%sql\n",
    "SELECT * FROM sqlite_master;"
   ]
  },
  {
   "cell_type": "code",
   "execution_count": 5,
   "id": "d4d85da7",
   "metadata": {},
   "outputs": [
    {
     "name": "stdout",
     "output_type": "stream",
     "text": [
      " * sqlite:///Deya.db\n",
      "1 rows affected.\n",
      "1 rows affected.\n",
      "1 rows affected.\n",
      "1 rows affected.\n",
      "1 rows affected.\n",
      "1 rows affected.\n",
      "1 rows affected.\n",
      "1 rows affected.\n",
      "1 rows affected.\n",
      "1 rows affected.\n"
     ]
    },
    {
     "data": {
      "text/plain": [
       "[]"
      ]
     },
     "execution_count": 5,
     "metadata": {},
     "output_type": "execute_result"
    }
   ],
   "source": [
    "%%sql\n",
    "insert into Customer VALUES(146518725, 'PAPADOPOULOS IOANNIS', 'FysPro', 144247401482, 775595);\n",
    "insert into Customer VALUES(340124584, 'KASPAROV KONSTANTINOS', 'FysPro', 341047464216, 775084);\n",
    "insert into Customer VALUES(235632870, 'KONSTANTINIDIS VASILIS', 'FysPro', 236011003390, 775590);\n",
    "insert into Customer VALUES(796857536, 'SIMOULTANE A.E.', 'NomOnt', 795953136412, 780014);\n",
    "insert into Customer VALUES(865152985, 'ELIT', 'NomOnt', 869406937100, 769559);\n",
    "insert into Customer VALUES(414987951, 'GATZOMITI ANTHI', 'FysPro', 412631133351, 773102);\n",
    "insert into Customer VALUES(865732304, 'BIG DATA A.E.', 'NomOnt', 863703891324, 732269);\n",
    "insert into Customer VALUES(979845233, 'DELFINIA A.E.', 'NomOnt', 972950943132, 759475);\n",
    "insert into Customer VALUES(310675807, 'GAITA KONSTANTINA', 'FysPro', 319784834875, 774032);\n",
    "insert into Customer VALUES(614879608, 'XATZIKONSTANTINOY TASOS', 'FysPro', 611411757382, 770398);\n"
   ]
  },
  {
   "cell_type": "code",
   "execution_count": 6,
   "id": "1231a864",
   "metadata": {},
   "outputs": [
    {
     "name": "stdout",
     "output_type": "stream",
     "text": [
      " * sqlite:///Deya.db\n",
      "1 rows affected.\n",
      "1 rows affected.\n",
      "1 rows affected.\n",
      "1 rows affected.\n",
      "1 rows affected.\n",
      "1 rows affected.\n",
      "1 rows affected.\n",
      "1 rows affected.\n",
      "1 rows affected.\n",
      "1 rows affected.\n"
     ]
    },
    {
     "data": {
      "text/plain": [
       "[]"
      ]
     },
     "execution_count": 6,
     "metadata": {},
     "output_type": "execute_result"
    }
   ],
   "source": [
    "%%sql\n",
    "insert into Meter VALUES(775595, 'OIKIAKO', '2021-10-10', '2022-01-10', 627, 633, 6, 146518725, 144247401482, 111);\n",
    "insert into Meter VALUES(775084, 'OIKIAKO', '2021-10-10', '2022-01-10', 152, 159, 7, 340124584, 341047464216, 222);\n",
    "insert into Meter VALUES(775590, 'OIKIAKO', '2021-10-10', '2022-01-10', 193, 233, 40, 235632870, 236011003390, 333);\n",
    "insert into Meter VALUES(780014, 'BIOMHXA', '2021-10-10', '2022-01-10', 2150, 2300, 150, 796857536, 795953136412, 444);\n",
    "insert into Meter VALUES(769559, 'BIOMHXA', '2021-10-10', '2022-01-10', 5600, 5730, 230, 865152985, 869406937100, 555);\n",
    "insert into Meter VALUES(773102, 'OIKIAKO', '2021-10-10', '2022-01-10', 390, 415, 25, 414987951, 412631133351, 666);\n",
    "insert into Meter VALUES(732269, 'AGROTIK', '2021-10-10', '2022-01-10', 30300, 30600, 300, 865732304, 863703891324, 777);\n",
    "insert into Meter VALUES(759475, 'AGROTIK', '2021-10-10', '2022-01-10', 87650, 87807, 157, 979845233, 972950943132, 888);\n",
    "insert into Meter VALUES(774032, 'OIKIAKO', '2021-10-10', '2022-01-10', 64, 69, 5, 310675807, 319784834875, 999);\n",
    "insert into Meter VALUES(770398, 'OIKIAKO', '2021-10-10', '2022-01-10', 23, 29, 6, 614879608, 611411757382, 101);\n"
   ]
  },
  {
   "cell_type": "code",
   "execution_count": 7,
   "id": "0fd1337c",
   "metadata": {},
   "outputs": [
    {
     "name": "stdout",
     "output_type": "stream",
     "text": [
      " * sqlite:///Deya.db\n",
      "1 rows affected.\n",
      "1 rows affected.\n",
      "1 rows affected.\n",
      "1 rows affected.\n",
      "1 rows affected.\n",
      "1 rows affected.\n",
      "1 rows affected.\n",
      "1 rows affected.\n",
      "1 rows affected.\n",
      "1 rows affected.\n"
     ]
    },
    {
     "data": {
      "text/plain": [
       "[]"
      ]
     },
     "execution_count": 7,
     "metadata": {},
     "output_type": "execute_result"
    }
   ],
   "source": [
    "%%sql\n",
    "insert into Address VALUES(1234567, 65403, 'Grigoriou Xenopoulou', 23);\n",
    "insert into Address VALUES(2345678, 65201, 'Euaggelou Zappa', 12);\n",
    "insert into Address VALUES(3456789, 65302, 'Smirnis', 4);\n",
    "insert into Address VALUES(4567890, 65403, 'Adrianoupoleos', 8);\n",
    "insert into Address VALUES(9876543, 65302, 'Athinas', 7);\n",
    "insert into Address VALUES(8765432, 65201, 'Omonias',71);\n",
    "insert into Address VALUES(7654321, 65403, 'Grigoriou Xenopoulou', 4);\n",
    "insert into Address VALUES(1232345, 65404, 'Ionakis', 28);\n",
    "insert into Address VALUES(1265424, 65403, 'Kalimnos', 10);\n",
    "insert into Address VALUES(9087657, 65302, 'Athinas', 38);"
   ]
  },
  {
   "cell_type": "code",
   "execution_count": 8,
   "id": "bf09bdcd",
   "metadata": {},
   "outputs": [
    {
     "name": "stdout",
     "output_type": "stream",
     "text": [
      " * sqlite:///Deya.db\n",
      "1 rows affected.\n",
      "1 rows affected.\n",
      "1 rows affected.\n",
      "1 rows affected.\n",
      "1 rows affected.\n",
      "1 rows affected.\n",
      "1 rows affected.\n",
      "1 rows affected.\n",
      "1 rows affected.\n",
      "1 rows affected.\n"
     ]
    },
    {
     "data": {
      "text/plain": [
       "[]"
      ]
     },
     "execution_count": 8,
     "metadata": {},
     "output_type": "execute_result"
    }
   ],
   "source": [
    "%%sql\n",
    "insert into Bill VALUES(144247401482,'21/01/2022', '01/02/2022', 146518725, 14651872500001, 775595);\n",
    "insert into Bill VALUES(341047464216,'21/01/2022', '01/02/2022', 340124584, 34012458400001, 775084);\n",
    "insert into Bill VALUES(236011003390,'21/01/2022', '01/02/2022', 235632870, 23563287000001, 775590);\n",
    "insert into Bill VALUES(795953136412,'21/01/2022', '01/02/2022', 796857536, 79685753600001, 780014);\n",
    "insert into Bill VALUES(869406937100,'21/01/2022', '01/02/2022', 865152985, 86515298500001, 769559);\n",
    "insert into Bill VALUES(412631133351,'21/01/2022', '01/02/2022', 414987951, 41498795100001, 773102);\n",
    "insert into Bill VALUES(863703891324,'21/01/2022', '01/02/2022', 865732304, 86573230400001, 732269);\n",
    "insert into Bill VALUES(972950943132,'21/01/2022', '01/02/2022', 979845233, 97984523300001, 759475);\n",
    "insert into Bill VALUES(319784834875,'21/01/2022', '01/02/2022', 310675807, 31067580700001, 774032);\n",
    "insert into Bill VALUES(611411757382,'21/01/2022', '01/02/2022', 614879608, 61487960800001, 770398);\n"
   ]
  },
  {
   "cell_type": "code",
   "execution_count": 9,
   "id": "152d97f9",
   "metadata": {},
   "outputs": [
    {
     "name": "stdout",
     "output_type": "stream",
     "text": [
      " * sqlite:///Deya.db\n",
      "1 rows affected.\n",
      "1 rows affected.\n",
      "1 rows affected.\n",
      "1 rows affected.\n",
      "1 rows affected.\n",
      "1 rows affected.\n",
      "1 rows affected.\n",
      "1 rows affected.\n",
      "1 rows affected.\n",
      "1 rows affected.\n"
     ]
    },
    {
     "data": {
      "text/plain": [
       "[]"
      ]
     },
     "execution_count": 9,
     "metadata": {},
     "output_type": "execute_result"
    }
   ],
   "source": [
    "%%sql\n",
    "insert into Antistoixei VALUES(146518725, 1234567);\n",
    "insert into Antistoixei VALUES(340124584, 2345678);\n",
    "insert into Antistoixei VALUES(235632870, 3456789);\n",
    "insert into Antistoixei VALUES(796857536, 4567890);\n",
    "insert into Antistoixei VALUES(865152985, 9876543);\n",
    "insert into Antistoixei VALUES(414987951, 8765432);\n",
    "insert into Antistoixei VALUES(865732304, 7654321);\n",
    "insert into Antistoixei VALUES(979845233, 1232345);\n",
    "insert into Antistoixei VALUES(310675807, 1265424);\n",
    "insert into Antistoixei VALUES(614879608, 9087657);"
   ]
  },
  {
   "cell_type": "code",
   "execution_count": 10,
   "id": "87a61126",
   "metadata": {},
   "outputs": [
    {
     "name": "stdout",
     "output_type": "stream",
     "text": [
      " * sqlite:///Deya.db\n",
      "1 rows affected.\n",
      "1 rows affected.\n",
      "1 rows affected.\n",
      "1 rows affected.\n",
      "1 rows affected.\n",
      "1 rows affected.\n",
      "1 rows affected.\n",
      "1 rows affected.\n",
      "1 rows affected.\n",
      "1 rows affected.\n"
     ]
    },
    {
     "data": {
      "text/plain": [
       "[]"
      ]
     },
     "execution_count": 10,
     "metadata": {},
     "output_type": "execute_result"
    }
   ],
   "source": [
    "%%sql\n",
    "insert into Employee VALUES(111, 'KARIPIDIS KONSTANTINOS', 'TAMEIO', 775595);\n",
    "insert into Employee VALUES(222, 'IOANIDOY NEFELI', 'DIEYTHIDRIA', 775084);\n",
    "insert into Employee VALUES(333, 'ELINIDOU IOANNA', 'TAMEIO', 775590);\n",
    "insert into Employee VALUES(444, 'MAVINAKIS STAYROS', 'LOGISTIRIO', 780014);\n",
    "insert into Employee VALUES(555, 'NIKOLAIDIS ALEXANDROS', 'ERGATIS', 769559);\n",
    "insert into Employee VALUES(666, 'XALVATZARAS EMANOYIL', 'TAMEIO', 773102);\n",
    "insert into Employee VALUES(777, 'KATSIDIS ATHANASIOS', 'YPODIEYTHIDIS', 732269);\n",
    "insert into Employee VALUES(888, 'STAMATIOY FOTEINI', 'TAMEIO', 759475);\n",
    "insert into Employee VALUES(999, 'GEORGIADIS IOAKEIM', 'LOGISTIRIO', 774032);\n",
    "insert into Employee VALUES(101, 'NTINOUDIS XRISTOFOROS', 'TAMEIO', 770398);\n"
   ]
  },
  {
   "cell_type": "code",
   "execution_count": 11,
   "id": "41a14e25",
   "metadata": {},
   "outputs": [
    {
     "name": "stdout",
     "output_type": "stream",
     "text": [
      " * sqlite:///Deya.db\n",
      "1 rows affected.\n",
      "1 rows affected.\n",
      "1 rows affected.\n",
      "1 rows affected.\n",
      "1 rows affected.\n",
      "1 rows affected.\n",
      "1 rows affected.\n",
      "1 rows affected.\n",
      "1 rows affected.\n",
      "1 rows affected.\n"
     ]
    },
    {
     "data": {
      "text/plain": [
       "[]"
      ]
     },
     "execution_count": 11,
     "metadata": {},
     "output_type": "execute_result"
    }
   ],
   "source": [
    "%%sql\n",
    "insert into Payment VALUES(14651872500001,'KARTA', '24/01/2022', 144247401482 );\n",
    "insert into Payment VALUES(34012458400001,'KARTA', '27/01/2022', 341047464216 );\n",
    "insert into Payment VALUES(23563287000001,'METRHTA', '29/01/2022', 236011003390 );\n",
    "insert into Payment VALUES(79685753600001,'KARTA', '30/01/2022', 795953136412 );\n",
    "insert into Payment VALUES(86515298500001,'ONLINE', '23/01/2022', 869406937100 );\n",
    "insert into Payment VALUES(41498795100001,'KARTA', '22/01/2022', 412631133351 );\n",
    "insert into Payment VALUES(86573230400001,'KARTA', '01/02/2022', 863703891324 );\n",
    "insert into Payment VALUES(97984523300001,'ONLINE', '26/01/2022', 972950943132 );\n",
    "insert into Payment VALUES(31067580700001,'METRHTA', '29/01/2022', 319784834875 );\n",
    "insert into Payment VALUES(61487960800001,'KARTA', '03/02/2022', 611411757382 );"
   ]
  },
  {
   "cell_type": "code",
   "execution_count": 12,
   "id": "14ad8b4d",
   "metadata": {},
   "outputs": [
    {
     "name": "stdout",
     "output_type": "stream",
     "text": [
      " * sqlite:///Deya.db\n",
      "Done.\n"
     ]
    },
    {
     "data": {
      "text/html": [
       "<table>\n",
       "    <thead>\n",
       "        <tr>\n",
       "            <th>MeterNo</th>\n",
       "            <th>MtrModel</th>\n",
       "            <th>BillStartDate</th>\n",
       "            <th>BillLastDate</th>\n",
       "            <th>PrevMeterNoVAL</th>\n",
       "            <th>NowMeterNoVAL</th>\n",
       "            <th>Consumption</th>\n",
       "            <th>AFM</th>\n",
       "            <th>BillNo</th>\n",
       "            <th>EmpNo</th>\n",
       "        </tr>\n",
       "    </thead>\n",
       "    <tbody>\n",
       "        <tr>\n",
       "            <td>732269</td>\n",
       "            <td>AGROTIK</td>\n",
       "            <td>2021-10-10</td>\n",
       "            <td>2022-01-10</td>\n",
       "            <td>30300</td>\n",
       "            <td>30600</td>\n",
       "            <td>300</td>\n",
       "            <td>865732304</td>\n",
       "            <td>863703891324</td>\n",
       "            <td>777</td>\n",
       "        </tr>\n",
       "        <tr>\n",
       "            <td>759475</td>\n",
       "            <td>AGROTIK</td>\n",
       "            <td>2021-10-10</td>\n",
       "            <td>2022-01-10</td>\n",
       "            <td>87650</td>\n",
       "            <td>87807</td>\n",
       "            <td>157</td>\n",
       "            <td>979845233</td>\n",
       "            <td>972950943132</td>\n",
       "            <td>888</td>\n",
       "        </tr>\n",
       "        <tr>\n",
       "            <td>769559</td>\n",
       "            <td>BIOMHXA</td>\n",
       "            <td>2021-10-10</td>\n",
       "            <td>2022-01-10</td>\n",
       "            <td>5600</td>\n",
       "            <td>5730</td>\n",
       "            <td>230</td>\n",
       "            <td>865152985</td>\n",
       "            <td>869406937100</td>\n",
       "            <td>555</td>\n",
       "        </tr>\n",
       "        <tr>\n",
       "            <td>770398</td>\n",
       "            <td>OIKIAKO</td>\n",
       "            <td>2021-10-10</td>\n",
       "            <td>2022-01-10</td>\n",
       "            <td>23</td>\n",
       "            <td>29</td>\n",
       "            <td>6</td>\n",
       "            <td>614879608</td>\n",
       "            <td>611411757382</td>\n",
       "            <td>101</td>\n",
       "        </tr>\n",
       "        <tr>\n",
       "            <td>773102</td>\n",
       "            <td>OIKIAKO</td>\n",
       "            <td>2021-10-10</td>\n",
       "            <td>2022-01-10</td>\n",
       "            <td>390</td>\n",
       "            <td>415</td>\n",
       "            <td>25</td>\n",
       "            <td>414987951</td>\n",
       "            <td>412631133351</td>\n",
       "            <td>666</td>\n",
       "        </tr>\n",
       "        <tr>\n",
       "            <td>774032</td>\n",
       "            <td>OIKIAKO</td>\n",
       "            <td>2021-10-10</td>\n",
       "            <td>2022-01-10</td>\n",
       "            <td>64</td>\n",
       "            <td>69</td>\n",
       "            <td>5</td>\n",
       "            <td>310675807</td>\n",
       "            <td>319784834875</td>\n",
       "            <td>999</td>\n",
       "        </tr>\n",
       "        <tr>\n",
       "            <td>775084</td>\n",
       "            <td>OIKIAKO</td>\n",
       "            <td>2021-10-10</td>\n",
       "            <td>2022-01-10</td>\n",
       "            <td>152</td>\n",
       "            <td>159</td>\n",
       "            <td>7</td>\n",
       "            <td>340124584</td>\n",
       "            <td>341047464216</td>\n",
       "            <td>222</td>\n",
       "        </tr>\n",
       "        <tr>\n",
       "            <td>775590</td>\n",
       "            <td>OIKIAKO</td>\n",
       "            <td>2021-10-10</td>\n",
       "            <td>2022-01-10</td>\n",
       "            <td>193</td>\n",
       "            <td>233</td>\n",
       "            <td>40</td>\n",
       "            <td>235632870</td>\n",
       "            <td>236011003390</td>\n",
       "            <td>333</td>\n",
       "        </tr>\n",
       "        <tr>\n",
       "            <td>775595</td>\n",
       "            <td>OIKIAKO</td>\n",
       "            <td>2021-10-10</td>\n",
       "            <td>2022-01-10</td>\n",
       "            <td>627</td>\n",
       "            <td>633</td>\n",
       "            <td>6</td>\n",
       "            <td>146518725</td>\n",
       "            <td>144247401482</td>\n",
       "            <td>111</td>\n",
       "        </tr>\n",
       "        <tr>\n",
       "            <td>780014</td>\n",
       "            <td>BIOMHXA</td>\n",
       "            <td>2021-10-10</td>\n",
       "            <td>2022-01-10</td>\n",
       "            <td>2150</td>\n",
       "            <td>2300</td>\n",
       "            <td>150</td>\n",
       "            <td>796857536</td>\n",
       "            <td>795953136412</td>\n",
       "            <td>444</td>\n",
       "        </tr>\n",
       "    </tbody>\n",
       "</table>"
      ],
      "text/plain": [
       "[(732269, 'AGROTIK', '2021-10-10', '2022-01-10', 30300, 30600, 300, 865732304, 863703891324, 777),\n",
       " (759475, 'AGROTIK', '2021-10-10', '2022-01-10', 87650, 87807, 157, 979845233, 972950943132, 888),\n",
       " (769559, 'BIOMHXA', '2021-10-10', '2022-01-10', 5600, 5730, 230, 865152985, 869406937100, 555),\n",
       " (770398, 'OIKIAKO', '2021-10-10', '2022-01-10', 23, 29, 6, 614879608, 611411757382, 101),\n",
       " (773102, 'OIKIAKO', '2021-10-10', '2022-01-10', 390, 415, 25, 414987951, 412631133351, 666),\n",
       " (774032, 'OIKIAKO', '2021-10-10', '2022-01-10', 64, 69, 5, 310675807, 319784834875, 999),\n",
       " (775084, 'OIKIAKO', '2021-10-10', '2022-01-10', 152, 159, 7, 340124584, 341047464216, 222),\n",
       " (775590, 'OIKIAKO', '2021-10-10', '2022-01-10', 193, 233, 40, 235632870, 236011003390, 333),\n",
       " (775595, 'OIKIAKO', '2021-10-10', '2022-01-10', 627, 633, 6, 146518725, 144247401482, 111),\n",
       " (780014, 'BIOMHXA', '2021-10-10', '2022-01-10', 2150, 2300, 150, 796857536, 795953136412, 444)]"
      ]
     },
     "execution_count": 12,
     "metadata": {},
     "output_type": "execute_result"
    }
   ],
   "source": [
    "%%sql\n",
    "SELECT * FROM Meter;"
   ]
  },
  {
   "cell_type": "markdown",
   "id": "73bd963e",
   "metadata": {},
   "source": [
    "* Εμφανίζουμε τον πίνακα Bill"
   ]
  },
  {
   "cell_type": "code",
   "execution_count": 13,
   "id": "5bb38026",
   "metadata": {},
   "outputs": [
    {
     "name": "stdout",
     "output_type": "stream",
     "text": [
      " * sqlite:///Deya.db\n",
      "Done.\n"
     ]
    },
    {
     "data": {
      "text/html": [
       "<table>\n",
       "    <thead>\n",
       "        <tr>\n",
       "            <th>BillNo</th>\n",
       "            <th>BillPublishDate</th>\n",
       "            <th>BillExpireDate</th>\n",
       "            <th>AFM</th>\n",
       "            <th>IDpayment</th>\n",
       "            <th>MeterNo</th>\n",
       "        </tr>\n",
       "    </thead>\n",
       "    <tbody>\n",
       "        <tr>\n",
       "            <td>144247401482</td>\n",
       "            <td>21/01/2022</td>\n",
       "            <td>01/02/2022</td>\n",
       "            <td>146518725</td>\n",
       "            <td>14651872500001</td>\n",
       "            <td>775595</td>\n",
       "        </tr>\n",
       "        <tr>\n",
       "            <td>341047464216</td>\n",
       "            <td>21/01/2022</td>\n",
       "            <td>01/02/2022</td>\n",
       "            <td>340124584</td>\n",
       "            <td>34012458400001</td>\n",
       "            <td>775084</td>\n",
       "        </tr>\n",
       "        <tr>\n",
       "            <td>236011003390</td>\n",
       "            <td>21/01/2022</td>\n",
       "            <td>01/02/2022</td>\n",
       "            <td>235632870</td>\n",
       "            <td>23563287000001</td>\n",
       "            <td>775590</td>\n",
       "        </tr>\n",
       "        <tr>\n",
       "            <td>795953136412</td>\n",
       "            <td>21/01/2022</td>\n",
       "            <td>01/02/2022</td>\n",
       "            <td>796857536</td>\n",
       "            <td>79685753600001</td>\n",
       "            <td>780014</td>\n",
       "        </tr>\n",
       "        <tr>\n",
       "            <td>869406937100</td>\n",
       "            <td>21/01/2022</td>\n",
       "            <td>01/02/2022</td>\n",
       "            <td>865152985</td>\n",
       "            <td>86515298500001</td>\n",
       "            <td>769559</td>\n",
       "        </tr>\n",
       "        <tr>\n",
       "            <td>412631133351</td>\n",
       "            <td>21/01/2022</td>\n",
       "            <td>01/02/2022</td>\n",
       "            <td>414987951</td>\n",
       "            <td>41498795100001</td>\n",
       "            <td>773102</td>\n",
       "        </tr>\n",
       "        <tr>\n",
       "            <td>863703891324</td>\n",
       "            <td>21/01/2022</td>\n",
       "            <td>01/02/2022</td>\n",
       "            <td>865732304</td>\n",
       "            <td>86573230400001</td>\n",
       "            <td>732269</td>\n",
       "        </tr>\n",
       "        <tr>\n",
       "            <td>972950943132</td>\n",
       "            <td>21/01/2022</td>\n",
       "            <td>01/02/2022</td>\n",
       "            <td>979845233</td>\n",
       "            <td>97984523300001</td>\n",
       "            <td>759475</td>\n",
       "        </tr>\n",
       "        <tr>\n",
       "            <td>319784834875</td>\n",
       "            <td>21/01/2022</td>\n",
       "            <td>01/02/2022</td>\n",
       "            <td>310675807</td>\n",
       "            <td>31067580700001</td>\n",
       "            <td>774032</td>\n",
       "        </tr>\n",
       "        <tr>\n",
       "            <td>611411757382</td>\n",
       "            <td>21/01/2022</td>\n",
       "            <td>01/02/2022</td>\n",
       "            <td>614879608</td>\n",
       "            <td>61487960800001</td>\n",
       "            <td>770398</td>\n",
       "        </tr>\n",
       "    </tbody>\n",
       "</table>"
      ],
      "text/plain": [
       "[(144247401482, '21/01/2022', '01/02/2022', 146518725, 14651872500001, 775595),\n",
       " (341047464216, '21/01/2022', '01/02/2022', 340124584, 34012458400001, 775084),\n",
       " (236011003390, '21/01/2022', '01/02/2022', 235632870, 23563287000001, 775590),\n",
       " (795953136412, '21/01/2022', '01/02/2022', 796857536, 79685753600001, 780014),\n",
       " (869406937100, '21/01/2022', '01/02/2022', 865152985, 86515298500001, 769559),\n",
       " (412631133351, '21/01/2022', '01/02/2022', 414987951, 41498795100001, 773102),\n",
       " (863703891324, '21/01/2022', '01/02/2022', 865732304, 86573230400001, 732269),\n",
       " (972950943132, '21/01/2022', '01/02/2022', 979845233, 97984523300001, 759475),\n",
       " (319784834875, '21/01/2022', '01/02/2022', 310675807, 31067580700001, 774032),\n",
       " (611411757382, '21/01/2022', '01/02/2022', 614879608, 61487960800001, 770398)]"
      ]
     },
     "execution_count": 13,
     "metadata": {},
     "output_type": "execute_result"
    }
   ],
   "source": [
    "%%sql\n",
    "SELECT * FROM Bill;"
   ]
  },
  {
   "cell_type": "markdown",
   "id": "d50a0a37",
   "metadata": {},
   "source": [
    "## Αναζητούμε από τον πίνακα με τους χρήστες, πόσοι από αυτούς είναι Οικιακοί και να τους εμφανίζει"
   ]
  },
  {
   "cell_type": "code",
   "execution_count": 14,
   "id": "1d16632b",
   "metadata": {},
   "outputs": [
    {
     "name": "stdout",
     "output_type": "stream",
     "text": [
      " * sqlite:///Deya.db\n",
      "Done.\n"
     ]
    },
    {
     "data": {
      "text/html": [
       "<table>\n",
       "    <thead>\n",
       "        <tr>\n",
       "            <th>AFM</th>\n",
       "            <th>CustName</th>\n",
       "            <th>CustType</th>\n",
       "            <th>BillNo</th>\n",
       "            <th>MeterNo</th>\n",
       "        </tr>\n",
       "    </thead>\n",
       "    <tbody>\n",
       "        <tr>\n",
       "            <td>146518725</td>\n",
       "            <td>PAPADOPOULOS IOANNIS</td>\n",
       "            <td>FysPro</td>\n",
       "            <td>144247401482</td>\n",
       "            <td>775595</td>\n",
       "        </tr>\n",
       "        <tr>\n",
       "            <td>340124584</td>\n",
       "            <td>KASPAROV KONSTANTINOS</td>\n",
       "            <td>FysPro</td>\n",
       "            <td>341047464216</td>\n",
       "            <td>775084</td>\n",
       "        </tr>\n",
       "        <tr>\n",
       "            <td>235632870</td>\n",
       "            <td>KONSTANTINIDIS VASILIS</td>\n",
       "            <td>FysPro</td>\n",
       "            <td>236011003390</td>\n",
       "            <td>775590</td>\n",
       "        </tr>\n",
       "        <tr>\n",
       "            <td>414987951</td>\n",
       "            <td>GATZOMITI ANTHI</td>\n",
       "            <td>FysPro</td>\n",
       "            <td>412631133351</td>\n",
       "            <td>773102</td>\n",
       "        </tr>\n",
       "        <tr>\n",
       "            <td>310675807</td>\n",
       "            <td>GAITA KONSTANTINA</td>\n",
       "            <td>FysPro</td>\n",
       "            <td>319784834875</td>\n",
       "            <td>774032</td>\n",
       "        </tr>\n",
       "        <tr>\n",
       "            <td>614879608</td>\n",
       "            <td>XATZIKONSTANTINOY TASOS</td>\n",
       "            <td>FysPro</td>\n",
       "            <td>611411757382</td>\n",
       "            <td>770398</td>\n",
       "        </tr>\n",
       "    </tbody>\n",
       "</table>"
      ],
      "text/plain": [
       "[(146518725, 'PAPADOPOULOS IOANNIS', 'FysPro', 144247401482, 775595),\n",
       " (340124584, 'KASPAROV KONSTANTINOS', 'FysPro', 341047464216, 775084),\n",
       " (235632870, 'KONSTANTINIDIS VASILIS', 'FysPro', 236011003390, 775590),\n",
       " (414987951, 'GATZOMITI ANTHI', 'FysPro', 412631133351, 773102),\n",
       " (310675807, 'GAITA KONSTANTINA', 'FysPro', 319784834875, 774032),\n",
       " (614879608, 'XATZIKONSTANTINOY TASOS', 'FysPro', 611411757382, 770398)]"
      ]
     },
     "execution_count": 14,
     "metadata": {},
     "output_type": "execute_result"
    }
   ],
   "source": [
    "%%sql\n",
    "select * from Customer where (CustType= 'FysPro'); \n"
   ]
  },
  {
   "cell_type": "code",
   "execution_count": 15,
   "id": "807ef63d",
   "metadata": {},
   "outputs": [
    {
     "name": "stdout",
     "output_type": "stream",
     "text": [
      " * sqlite:///Deya.db\n",
      "Done.\n"
     ]
    },
    {
     "data": {
      "text/html": [
       "<table>\n",
       "    <thead>\n",
       "        <tr>\n",
       "            <th>EmpNo</th>\n",
       "            <th>EmpName</th>\n",
       "            <th>EmpTitle</th>\n",
       "            <th>MeterNo</th>\n",
       "        </tr>\n",
       "    </thead>\n",
       "    <tbody>\n",
       "        <tr>\n",
       "            <td>111</td>\n",
       "            <td>KARIPIDIS KONSTANTINOS</td>\n",
       "            <td>TAMEIO</td>\n",
       "            <td>775595</td>\n",
       "        </tr>\n",
       "        <tr>\n",
       "            <td>777</td>\n",
       "            <td>KATSIDIS ATHANASIOS</td>\n",
       "            <td>YPODIEYTHIDIS</td>\n",
       "            <td>732269</td>\n",
       "        </tr>\n",
       "    </tbody>\n",
       "</table>"
      ],
      "text/plain": [
       "[(111, 'KARIPIDIS KONSTANTINOS', 'TAMEIO', 775595),\n",
       " (777, 'KATSIDIS ATHANASIOS', 'YPODIEYTHIDIS', 732269)]"
      ]
     },
     "execution_count": 15,
     "metadata": {},
     "output_type": "execute_result"
    }
   ],
   "source": [
    "%%sql\n",
    "select * from Employee where EmpName LIKE ('K%');"
   ]
  },
  {
   "cell_type": "code",
   "execution_count": 16,
   "id": "13927582",
   "metadata": {
    "scrolled": true
   },
   "outputs": [
    {
     "name": "stdout",
     "output_type": "stream",
     "text": [
      " * sqlite:///Deya.db\n",
      "Done.\n"
     ]
    }
   ],
   "source": [
    "result_Bill = %sql SELECT BillExpireDate from Bill\n",
    "df = pd.DataFrame(result_Bill)"
   ]
  },
  {
   "cell_type": "code",
   "execution_count": 17,
   "id": "f33a0b2c",
   "metadata": {},
   "outputs": [
    {
     "data": {
      "text/html": [
       "<table>\n",
       "    <thead>\n",
       "        <tr>\n",
       "            <th>BillExpireDate</th>\n",
       "        </tr>\n",
       "    </thead>\n",
       "    <tbody>\n",
       "        <tr>\n",
       "            <td>01/02/2022</td>\n",
       "        </tr>\n",
       "        <tr>\n",
       "            <td>01/02/2022</td>\n",
       "        </tr>\n",
       "        <tr>\n",
       "            <td>01/02/2022</td>\n",
       "        </tr>\n",
       "        <tr>\n",
       "            <td>01/02/2022</td>\n",
       "        </tr>\n",
       "        <tr>\n",
       "            <td>01/02/2022</td>\n",
       "        </tr>\n",
       "        <tr>\n",
       "            <td>01/02/2022</td>\n",
       "        </tr>\n",
       "        <tr>\n",
       "            <td>01/02/2022</td>\n",
       "        </tr>\n",
       "        <tr>\n",
       "            <td>01/02/2022</td>\n",
       "        </tr>\n",
       "        <tr>\n",
       "            <td>01/02/2022</td>\n",
       "        </tr>\n",
       "        <tr>\n",
       "            <td>01/02/2022</td>\n",
       "        </tr>\n",
       "    </tbody>\n",
       "</table>"
      ],
      "text/plain": [
       "[('01/02/2022',),\n",
       " ('01/02/2022',),\n",
       " ('01/02/2022',),\n",
       " ('01/02/2022',),\n",
       " ('01/02/2022',),\n",
       " ('01/02/2022',),\n",
       " ('01/02/2022',),\n",
       " ('01/02/2022',),\n",
       " ('01/02/2022',),\n",
       " ('01/02/2022',)]"
      ]
     },
     "execution_count": 17,
     "metadata": {},
     "output_type": "execute_result"
    }
   ],
   "source": [
    "df.columns = ['BillExpireDate']\n",
    "result_Bill\n"
   ]
  },
  {
   "cell_type": "markdown",
   "id": "e48ea4dc",
   "metadata": {},
   "source": [
    "* Αναζητούμε τους χρήστες που κατανάλωσαν λιγότετα από 40 κυβικά μέτρα νερό στο τρίμηνο"
   ]
  },
  {
   "cell_type": "code",
   "execution_count": 18,
   "id": "1cab42e8",
   "metadata": {},
   "outputs": [
    {
     "name": "stdout",
     "output_type": "stream",
     "text": [
      " * sqlite:///Deya.db\n",
      "Done.\n"
     ]
    },
    {
     "data": {
      "text/html": [
       "<table>\n",
       "    <thead>\n",
       "        <tr>\n",
       "            <th>MeterNo</th>\n",
       "            <th>MtrModel</th>\n",
       "            <th>BillStartDate</th>\n",
       "            <th>BillLastDate</th>\n",
       "            <th>PrevMeterNoVAL</th>\n",
       "            <th>NowMeterNoVAL</th>\n",
       "            <th>Consumption</th>\n",
       "            <th>AFM</th>\n",
       "            <th>BillNo</th>\n",
       "            <th>EmpNo</th>\n",
       "        </tr>\n",
       "    </thead>\n",
       "    <tbody>\n",
       "        <tr>\n",
       "            <td>770398</td>\n",
       "            <td>OIKIAKO</td>\n",
       "            <td>2021-10-10</td>\n",
       "            <td>2022-01-10</td>\n",
       "            <td>23</td>\n",
       "            <td>29</td>\n",
       "            <td>6</td>\n",
       "            <td>614879608</td>\n",
       "            <td>611411757382</td>\n",
       "            <td>101</td>\n",
       "        </tr>\n",
       "        <tr>\n",
       "            <td>773102</td>\n",
       "            <td>OIKIAKO</td>\n",
       "            <td>2021-10-10</td>\n",
       "            <td>2022-01-10</td>\n",
       "            <td>390</td>\n",
       "            <td>415</td>\n",
       "            <td>25</td>\n",
       "            <td>414987951</td>\n",
       "            <td>412631133351</td>\n",
       "            <td>666</td>\n",
       "        </tr>\n",
       "        <tr>\n",
       "            <td>774032</td>\n",
       "            <td>OIKIAKO</td>\n",
       "            <td>2021-10-10</td>\n",
       "            <td>2022-01-10</td>\n",
       "            <td>64</td>\n",
       "            <td>69</td>\n",
       "            <td>5</td>\n",
       "            <td>310675807</td>\n",
       "            <td>319784834875</td>\n",
       "            <td>999</td>\n",
       "        </tr>\n",
       "        <tr>\n",
       "            <td>775084</td>\n",
       "            <td>OIKIAKO</td>\n",
       "            <td>2021-10-10</td>\n",
       "            <td>2022-01-10</td>\n",
       "            <td>152</td>\n",
       "            <td>159</td>\n",
       "            <td>7</td>\n",
       "            <td>340124584</td>\n",
       "            <td>341047464216</td>\n",
       "            <td>222</td>\n",
       "        </tr>\n",
       "        <tr>\n",
       "            <td>775595</td>\n",
       "            <td>OIKIAKO</td>\n",
       "            <td>2021-10-10</td>\n",
       "            <td>2022-01-10</td>\n",
       "            <td>627</td>\n",
       "            <td>633</td>\n",
       "            <td>6</td>\n",
       "            <td>146518725</td>\n",
       "            <td>144247401482</td>\n",
       "            <td>111</td>\n",
       "        </tr>\n",
       "    </tbody>\n",
       "</table>"
      ],
      "text/plain": [
       "[(770398, 'OIKIAKO', '2021-10-10', '2022-01-10', 23, 29, 6, 614879608, 611411757382, 101),\n",
       " (773102, 'OIKIAKO', '2021-10-10', '2022-01-10', 390, 415, 25, 414987951, 412631133351, 666),\n",
       " (774032, 'OIKIAKO', '2021-10-10', '2022-01-10', 64, 69, 5, 310675807, 319784834875, 999),\n",
       " (775084, 'OIKIAKO', '2021-10-10', '2022-01-10', 152, 159, 7, 340124584, 341047464216, 222),\n",
       " (775595, 'OIKIAKO', '2021-10-10', '2022-01-10', 627, 633, 6, 146518725, 144247401482, 111)]"
      ]
     },
     "execution_count": 18,
     "metadata": {},
     "output_type": "execute_result"
    }
   ],
   "source": [
    "%%sql\n",
    "select * from Meter where (Consumption<40) ;"
   ]
  },
  {
   "cell_type": "markdown",
   "id": "76c7452f",
   "metadata": {},
   "source": [
    "* Λόγω προβλήματος στο σύστημα υδροδότησης, θέλουμε να βρούμε ποιοι χρήστες μένουν στις οδούς Grigoriou Xenopoulou και Kalimnos έτσι ώστε να ειδοποιηθούν έγκαιρα για την διακοπή"
   ]
  },
  {
   "cell_type": "code",
   "execution_count": 19,
   "id": "0490fbe7",
   "metadata": {},
   "outputs": [
    {
     "name": "stdout",
     "output_type": "stream",
     "text": [
      " * sqlite:///Deya.db\n",
      "Done.\n"
     ]
    },
    {
     "data": {
      "text/html": [
       "<table>\n",
       "    <thead>\n",
       "        <tr>\n",
       "            <th>IDAddress</th>\n",
       "            <th>TK</th>\n",
       "            <th>Street</th>\n",
       "            <th>Number</th>\n",
       "        </tr>\n",
       "    </thead>\n",
       "    <tbody>\n",
       "        <tr>\n",
       "            <td>1234567</td>\n",
       "            <td>65403</td>\n",
       "            <td>Grigoriou Xenopoulou</td>\n",
       "            <td>23</td>\n",
       "        </tr>\n",
       "        <tr>\n",
       "            <td>7654321</td>\n",
       "            <td>65403</td>\n",
       "            <td>Grigoriou Xenopoulou</td>\n",
       "            <td>4</td>\n",
       "        </tr>\n",
       "        <tr>\n",
       "            <td>1265424</td>\n",
       "            <td>65403</td>\n",
       "            <td>Kalimnos</td>\n",
       "            <td>10</td>\n",
       "        </tr>\n",
       "    </tbody>\n",
       "</table>"
      ],
      "text/plain": [
       "[(1234567, 65403, 'Grigoriou Xenopoulou', 23),\n",
       " (7654321, 65403, 'Grigoriou Xenopoulou', 4),\n",
       " (1265424, 65403, 'Kalimnos', 10)]"
      ]
     },
     "execution_count": 19,
     "metadata": {},
     "output_type": "execute_result"
    }
   ],
   "source": [
    "%%sql\n",
    "select * from Address where (Street='Grigoriou Xenopoulou') or (Street='Kalimnos')"
   ]
  },
  {
   "cell_type": "markdown",
   "id": "06035fd5",
   "metadata": {},
   "source": [
    "* Ποιοι χρήστες πλήρωσαν εκπρόθεσμα τον λογαριασμό τους"
   ]
  },
  {
   "cell_type": "code",
   "execution_count": 20,
   "id": "ddd689aa",
   "metadata": {},
   "outputs": [
    {
     "name": "stdout",
     "output_type": "stream",
     "text": [
      " * sqlite:///Deya.db\n",
      "Done.\n"
     ]
    },
    {
     "data": {
      "text/html": [
       "<table>\n",
       "    <thead>\n",
       "        <tr>\n",
       "            <th>IDpayment</th>\n",
       "            <th>PaymentType</th>\n",
       "            <th>PayDate</th>\n",
       "            <th>BillNo</th>\n",
       "        </tr>\n",
       "    </thead>\n",
       "    <tbody>\n",
       "        <tr>\n",
       "            <td>61487960800001</td>\n",
       "            <td>KARTA</td>\n",
       "            <td>03/02/2022</td>\n",
       "            <td>611411757382</td>\n",
       "        </tr>\n",
       "    </tbody>\n",
       "</table>"
      ],
      "text/plain": [
       "[(61487960800001, 'KARTA', '03/02/2022', 611411757382)]"
      ]
     },
     "execution_count": 20,
     "metadata": {},
     "output_type": "execute_result"
    }
   ],
   "source": [
    "%%sql\n",
    "select * from Payment where (Paydate !='21/01/2022' and Paydate != '22/01/2022' and Paydate != '23/01/2022'and Paydate !='24/01/2022'and Paydate !='25/01/2022'and Paydate !='26/01/2022'and Paydate !='27/01/2022'and Paydate !='28/01/2022'and Paydate !='29/01/2022'and Paydate !='30/01/2022'and Paydate !='31/01/2022' and Paydate != '01/02/2022');"
   ]
  },
  {
   "cell_type": "markdown",
   "id": "8098b283",
   "metadata": {},
   "source": [
    "## Φτιάχνουμε Data για να κάνουμε τα διαγράμματα "
   ]
  },
  {
   "cell_type": "code",
   "execution_count": 21,
   "id": "5d85da96",
   "metadata": {},
   "outputs": [
    {
     "name": "stdout",
     "output_type": "stream",
     "text": [
      " * sqlite:///Deya.db\n",
      "Done.\n"
     ]
    }
   ],
   "source": [
    "result_Meter = %sql SELECT BillLastDate from Meter\n",
    "df_Meter = pd.DataFrame(result_Meter)"
   ]
  },
  {
   "cell_type": "code",
   "execution_count": 22,
   "id": "f7a51371",
   "metadata": {},
   "outputs": [
    {
     "name": "stdout",
     "output_type": "stream",
     "text": [
      " * sqlite:///Deya.db\n",
      "Done.\n"
     ]
    },
    {
     "data": {
      "text/html": [
       "<div>\n",
       "<style scoped>\n",
       "    .dataframe tbody tr th:only-of-type {\n",
       "        vertical-align: middle;\n",
       "    }\n",
       "\n",
       "    .dataframe tbody tr th {\n",
       "        vertical-align: top;\n",
       "    }\n",
       "\n",
       "    .dataframe thead th {\n",
       "        text-align: right;\n",
       "    }\n",
       "</style>\n",
       "<table border=\"1\" class=\"dataframe\">\n",
       "  <thead>\n",
       "    <tr style=\"text-align: right;\">\n",
       "      <th></th>\n",
       "      <th>0</th>\n",
       "    </tr>\n",
       "  </thead>\n",
       "  <tbody>\n",
       "    <tr>\n",
       "      <th>0</th>\n",
       "      <td>300</td>\n",
       "    </tr>\n",
       "    <tr>\n",
       "      <th>1</th>\n",
       "      <td>157</td>\n",
       "    </tr>\n",
       "    <tr>\n",
       "      <th>2</th>\n",
       "      <td>230</td>\n",
       "    </tr>\n",
       "    <tr>\n",
       "      <th>3</th>\n",
       "      <td>6</td>\n",
       "    </tr>\n",
       "    <tr>\n",
       "      <th>4</th>\n",
       "      <td>25</td>\n",
       "    </tr>\n",
       "    <tr>\n",
       "      <th>5</th>\n",
       "      <td>5</td>\n",
       "    </tr>\n",
       "    <tr>\n",
       "      <th>6</th>\n",
       "      <td>7</td>\n",
       "    </tr>\n",
       "    <tr>\n",
       "      <th>7</th>\n",
       "      <td>40</td>\n",
       "    </tr>\n",
       "    <tr>\n",
       "      <th>8</th>\n",
       "      <td>6</td>\n",
       "    </tr>\n",
       "    <tr>\n",
       "      <th>9</th>\n",
       "      <td>150</td>\n",
       "    </tr>\n",
       "  </tbody>\n",
       "</table>\n",
       "</div>"
      ],
      "text/plain": [
       "     0\n",
       "0  300\n",
       "1  157\n",
       "2  230\n",
       "3    6\n",
       "4   25\n",
       "5    5\n",
       "6    7\n",
       "7   40\n",
       "8    6\n",
       "9  150"
      ]
     },
     "execution_count": 22,
     "metadata": {},
     "output_type": "execute_result"
    }
   ],
   "source": [
    "result_Consumption = %sql SELECT Consumption from Meter\n",
    "df_Consumption = pd.DataFrame(result_Consumption)\n",
    "df_Consumption"
   ]
  },
  {
   "cell_type": "code",
   "execution_count": 23,
   "id": "2a83025e",
   "metadata": {},
   "outputs": [],
   "source": [
    "from plotly.figure_factory import create_table\n",
    "import plotly.express as px\n"
   ]
  },
  {
   "cell_type": "code",
   "execution_count": 24,
   "id": "18ed9451",
   "metadata": {},
   "outputs": [
    {
     "name": "stdout",
     "output_type": "stream",
     "text": [
      " * sqlite:///Deya.db\n",
      "Done.\n"
     ]
    }
   ],
   "source": [
    "result_Consumption = %sql SELECT Consumption from Meter\n",
    "df_Consumption = pd.DataFrame(result_Consumption)"
   ]
  },
  {
   "cell_type": "code",
   "execution_count": 25,
   "id": "107ba5e8",
   "metadata": {},
   "outputs": [
    {
     "name": "stdout",
     "output_type": "stream",
     "text": [
      " * sqlite:///Deya.db\n",
      "Done.\n"
     ]
    }
   ],
   "source": [
    "result_MtrModel = %sql SELECT MtrModel from Meter\n",
    "df_MtrModel = pd.DataFrame(result_MtrModel)"
   ]
  },
  {
   "cell_type": "code",
   "execution_count": 26,
   "id": "73cb3820",
   "metadata": {},
   "outputs": [
    {
     "data": {
      "text/html": [
       "<div>\n",
       "<style scoped>\n",
       "    .dataframe tbody tr th:only-of-type {\n",
       "        vertical-align: middle;\n",
       "    }\n",
       "\n",
       "    .dataframe tbody tr th {\n",
       "        vertical-align: top;\n",
       "    }\n",
       "\n",
       "    .dataframe thead th {\n",
       "        text-align: right;\n",
       "    }\n",
       "</style>\n",
       "<table border=\"1\" class=\"dataframe\">\n",
       "  <thead>\n",
       "    <tr style=\"text-align: right;\">\n",
       "      <th></th>\n",
       "      <th>0</th>\n",
       "      <th>0</th>\n",
       "    </tr>\n",
       "  </thead>\n",
       "  <tbody>\n",
       "    <tr>\n",
       "      <th>0</th>\n",
       "      <td>AGROTIK</td>\n",
       "      <td>300</td>\n",
       "    </tr>\n",
       "    <tr>\n",
       "      <th>1</th>\n",
       "      <td>AGROTIK</td>\n",
       "      <td>157</td>\n",
       "    </tr>\n",
       "    <tr>\n",
       "      <th>2</th>\n",
       "      <td>BIOMHXA</td>\n",
       "      <td>230</td>\n",
       "    </tr>\n",
       "    <tr>\n",
       "      <th>3</th>\n",
       "      <td>OIKIAKO</td>\n",
       "      <td>6</td>\n",
       "    </tr>\n",
       "    <tr>\n",
       "      <th>4</th>\n",
       "      <td>OIKIAKO</td>\n",
       "      <td>25</td>\n",
       "    </tr>\n",
       "    <tr>\n",
       "      <th>5</th>\n",
       "      <td>OIKIAKO</td>\n",
       "      <td>5</td>\n",
       "    </tr>\n",
       "    <tr>\n",
       "      <th>6</th>\n",
       "      <td>OIKIAKO</td>\n",
       "      <td>7</td>\n",
       "    </tr>\n",
       "    <tr>\n",
       "      <th>7</th>\n",
       "      <td>OIKIAKO</td>\n",
       "      <td>40</td>\n",
       "    </tr>\n",
       "    <tr>\n",
       "      <th>8</th>\n",
       "      <td>OIKIAKO</td>\n",
       "      <td>6</td>\n",
       "    </tr>\n",
       "    <tr>\n",
       "      <th>9</th>\n",
       "      <td>BIOMHXA</td>\n",
       "      <td>150</td>\n",
       "    </tr>\n",
       "  </tbody>\n",
       "</table>\n",
       "</div>"
      ],
      "text/plain": [
       "         0    0\n",
       "0  AGROTIK  300\n",
       "1  AGROTIK  157\n",
       "2  BIOMHXA  230\n",
       "3  OIKIAKO    6\n",
       "4  OIKIAKO   25\n",
       "5  OIKIAKO    5\n",
       "6  OIKIAKO    7\n",
       "7  OIKIAKO   40\n",
       "8  OIKIAKO    6\n",
       "9  BIOMHXA  150"
      ]
     },
     "execution_count": 26,
     "metadata": {},
     "output_type": "execute_result"
    }
   ],
   "source": [
    "DiagrammaXristwn = pd.concat([df_MtrModel, df_Consumption], axis = 1)\n",
    "\n",
    "DiagrammaXristwn\n"
   ]
  },
  {
   "cell_type": "code",
   "execution_count": 27,
   "id": "b8128eef",
   "metadata": {},
   "outputs": [],
   "source": [
    "DiagrammaXristwn.columns = ['TyposXrhsth', 'Katanalosi']"
   ]
  },
  {
   "cell_type": "code",
   "execution_count": 28,
   "id": "edf7696e",
   "metadata": {},
   "outputs": [
    {
     "data": {
      "text/plain": [
       "<seaborn.axisgrid.FacetGrid at 0x20103b71fd0>"
      ]
     },
     "execution_count": 28,
     "metadata": {},
     "output_type": "execute_result"
    },
    {
     "data": {
      "image/png": "[encoded data removed]",
      "text/plain": [
       "<Figure size 360x360 with 1 Axes>"
      ]
     },
     "metadata": {},
     "output_type": "display_data"
    }
   ],
   "source": [
    "import seaborn as sns\n",
    "sns.set_theme(style=\"whitegrid\")\n",
    "\n",
    "\n",
    "g = sns.catplot(\n",
    "    data=DiagrammaXristwn, kind=\"bar\",\n",
    "    x=\"TyposXrhsth\", y=\"Katanalosi\"\n",
    ")\n",
    "g.despine(left=True)\n",
    "g.set_axis_labels(\"\", \"Katanalosi\")\n"
   ]
  },
  {
   "cell_type": "code",
   "execution_count": 29,
   "id": "07c9a140",
   "metadata": {},
   "outputs": [
    {
     "name": "stdout",
     "output_type": "stream",
     "text": [
      " * sqlite:///Deya.db\n",
      "Done.\n"
     ]
    }
   ],
   "source": [
    "result_TroposPliromis = %sql SELECT PaymentType from Payment\n",
    "df_TroposPliromis = pd.DataFrame(result_TroposPliromis)\n",
    "\n",
    "df_TroposPliromis.columns = ['Methodos']\n",
    "\n"
   ]
  }
 ],
 "metadata": {
  "kernelspec": {
   "display_name": "Python 3 (ipykernel)",
   "language": "python",
   "name": "python3"
  },
  "language_info": {
   "codemirror_mode": {
    "name": "ipython",
    "version": 3
   },
   "file_extension": ".py",
   "mimetype": "text/x-python",
   "name": "python",
   "nbconvert_exporter": "python",
   "pygments_lexer": "ipython3",
   "version": "3.9.7"
  }
 },
 "nbformat": 4,
 "nbformat_minor": 5
}
